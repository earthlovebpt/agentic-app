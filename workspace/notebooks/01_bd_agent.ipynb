{
 "cells": [
  {
   "cell_type": "markdown",
   "id": "ea69ebad",
   "metadata": {},
   "source": [
    "# BD Agent Notebook\n",
    "\n",
    "Notebook for BD Agent. Let's do this starting from search & summary node as tool to call, BD agent to decide what tools to use and advisor chain"
   ]
  },
  {
   "cell_type": "markdown",
   "id": "cf2cf816",
   "metadata": {},
   "source": [
    "## Prepare data for BD Agents (Schema Context, Business Profile)"
   ]
  },
  {
   "cell_type": "code",
   "execution_count": 1,
   "id": "23aeccd0",
   "metadata": {},
   "outputs": [
    {
     "name": "stdout",
     "output_type": "stream",
     "text": [
      "Appending /mnt/d/Agentic Hackathon/agentic-app/workspace to path\n",
      "Appending /mnt/d/Agentic Hackathon/agentic-app to path\n"
     ]
    },
    {
     "name": "stderr",
     "output_type": "stream",
     "text": [
      "2025-04-26 20:13:32,942 - stratpilot - INFO - StratPilot started.\n"
     ]
    }
   ],
   "source": [
    "%load_ext autoreload\n",
    "%autoreload 2\n",
    "\n",
    "import pandas as pd\n",
    "import os\n",
    "import glob\n",
    "\n",
    "import sys\n",
    "\n",
    "from dotenv import load_dotenv\n",
    "load_dotenv()\n",
    "\n",
    "_path = os.getcwd()\n",
    "while \"graphs\" not in os.listdir(_path):\n",
    "\n",
    "\t_path = os.path.dirname(_path)\n",
    "\n",
    "\tif _path.replace(\"/\", \"\").strip() == \"\":\n",
    "\n",
    "\t\traise FileNotFoundError()\n",
    " \n",
    "\tif _path not in sys.path:\n",
    "\n",
    "\t\tsys.path.append(_path)\n",
    "\n",
    "\t\tprint(f\"Appending {_path} to path\")\n",
    "\n",
    "from graphs.answer_graph import build_answer_graph\n",
    "from graphs.understand_graph import build_understand_graph  # if needed in later phases\n",
    "from graphs.state import AgentState\n",
    "\n",
    "import nest_asyncio\n",
    "nest_asyncio.apply()\n",
    "\n",
    "from utils.scraper import scrape_urls\n",
    "from utils.sanitize import sanitize\n",
    "\n",
    "from logger_config import setup_logger\n",
    "logger = setup_logger()\n",
    "logger.info(\"StratPilot started.\")"
   ]
  },
  {
   "cell_type": "code",
   "execution_count": 2,
   "id": "a6dd2881",
   "metadata": {},
   "outputs": [],
   "source": [
    "#Prepare data (Read)\n",
    "\n",
    "uploaded_files = glob.glob(\"/mnt/d/Agentic Hackathon/agentic-app/data/coffee-shop-sample-data/*\")\n",
    "datasets = {}\n",
    "care = [\"customer\", \"201904 sales reciepts\", \"product\"]\n",
    "\n",
    "for file in uploaded_files:\n",
    "    if not any(c in file for c in care):\n",
    "        continue\n",
    "\n",
    "    df = pd.read_csv(file)\n",
    "    dataset_label = os.path.basename(file).split(\".\")[0]\n",
    "\n",
    "    inferred = {col: col for col in df.columns}\n",
    "    column_descriptions = {}\n",
    "    for col, guess in inferred.items():\n",
    "        column_descriptions[col] = f\"This column likely represents {guess}.\"\n",
    "\n",
    "    datasets[sanitize(dataset_label)] = {\n",
    "        \"data\": df,\n",
    "        \"description\": dataset_label,\n",
    "        \"column_descriptions\": column_descriptions\n",
    "    }\n",
    "\n",
    "all_dataframes = {}\n",
    "all_column_schemas = {}\n",
    "\n",
    "for dataset_name, bundle in datasets.items():\n",
    "    description = bundle.get(\"description\", \"\").strip()\n",
    "    df = bundle[\"data\"]\n",
    "    column_descriptions = bundle.get(\"column_descriptions\", {})\n",
    "\n",
    "    all_dataframes[dataset_name] = df\n",
    "    all_column_schemas[dataset_name] = column_descriptions\n",
    "\n",
    "business_profile = {\n",
    "  'type': 'Cafe',\n",
    "  'details': 'Independent neighborhood cafe located in a busy urban area, serving specialty coffee and light meals. Targets young professionals and students. Medium foot traffic, strong competition from chain coffee shops. Focused on in-store experience and Instagram-friendly ambiance. Operates 7 days a week with peak hours in the morning and late afternoon. Interested in increasing repeat customers and promoting seasonal items.'\n",
    "}"
   ]
  },
  {
   "cell_type": "code",
   "execution_count": 3,
   "id": "a8272222",
   "metadata": {},
   "outputs": [],
   "source": [
    "#Run business understanding graph\n",
    "#Explore dataset agentically\n",
    "state = AgentState(\n",
    "    business_profile=business_profile,\n",
    "    datasets={},\n",
    "    new_datasets=datasets,\n",
    "    schema_context=\"\",\n",
    "    explored_datasets=[],\n",
    "    memory_log=[]\n",
    ")\n",
    "\n",
    "understand_graph = build_understand_graph()\n",
    "result = understand_graph.invoke(state)\n",
    "\n",
    "state = AgentState(**result)"
   ]
  },
  {
   "cell_type": "markdown",
   "id": "1753ef63",
   "metadata": {},
   "source": [
    "## Try with search tools"
   ]
  },
  {
   "cell_type": "code",
   "execution_count": 4,
   "id": "0b7e8ec0",
   "metadata": {},
   "outputs": [],
   "source": [
    "from langchain_tavily import TavilySearch\n",
    "from utils.scraper import postprocess_tavily\n",
    "\n",
    "from agents.llm_config import bd_llm\n",
    "from typing import List, Dict, Any\n",
    "from agents.bd_agent.prompt.web_summary_prompt import web_summary_prompt, WebSummaryOutput\n",
    "from langchain_core.tools import tool\n",
    "\n",
    "# Initialize Tavily Search Tool\n",
    "tavily_search_tool = TavilySearch(\n",
    "    max_results=5,\n",
    "    topic=\"general\",\n",
    ")\n",
    "\n",
    "args = {\"query\": \"What's a trendy menu now in coffee shop?\"}\n",
    "\n",
    "web_summary_chain = web_summary_prompt | bd_llm.with_structured_output(WebSummaryOutput)"
   ]
  },
  {
   "cell_type": "code",
   "execution_count": 5,
   "id": "00bb6126",
   "metadata": {},
   "outputs": [
    {
     "name": "stderr",
     "output_type": "stream",
     "text": [
      "100%|██████████| 2/2 [03:19<00:00, 99.80s/it] \n"
     ]
    }
   ],
   "source": [
    "from agents.bd_agent.graph.tools import search_summary\n",
    "\n",
    "queries = [\n",
    "    \"What's a trendy drink now in coffee shop?\",\n",
    "    \"What bakery is popular now in a cafe?\",]\n",
    "\n",
    "result = search_summary.invoke({\"queries\": queries, \"show_progress\": True})"
   ]
  },
  {
   "cell_type": "code",
   "execution_count": 6,
   "id": "eee62243",
   "metadata": {},
   "outputs": [
    {
     "data": {
      "text/plain": [
       "{'messages': \"Question: What's a trendy drink now in coffee shop?\\nSummaries: Some of the trendy drinks in coffee shops in 2024 include Sea Salt Latte, Dalgona Coffee (whipped coffee), Blue Butterfly Pea Tea, Cold Brew coffee, Iced Matcha Cortado, Nitro Cold Brews, Snapp-chilled Coffee, and Mushroom Coffee. These drinks are popular for their unique flavors, textures, and health benefits, making them fashionable choices among coffee lovers this year.\\n  - A trendy drink now in coffee shops is cold coffee, especially cold brew and creative cold brew variations like draft cold brew combined with draft latte. Ready-to-drink cold espresso and non-alcoholic coffee cocktails are also gaining popularity, along with superfood-infused coffees featuring ingredients like turmeric, matcha, and adaptogenic mushrooms. Cafes are focusing on innovative and specialty drinks to offer unique experiences to customers.\\n  - Trendy drinks in coffee shops right now include cold brew coffee, known for its smooth and low-acid taste, and nitro coffee, which is cold brew infused with nitrogen to create a creamy texture and rich flavor. These innovative cold coffee options are particularly popular and visually appealing, making them hot choices in modern coffee shops.\\n  - Trendy drinks in coffee shops now include cold brew and nitro cold brew, which are popular for their smooth and less bitter taste. Specialty artisan coffee drinks made with local roasters' beans are also on the rise. Buttered coffee is gaining popularity in celebrity and athlete circles. Additionally, custom ordering allows customers to create personalized coffee drinks, and milk alternatives like oat milk remain highly popular among younger generations and health-conscious consumers.\\n\",\n",
       " 'search_insights': [{'question': \"What's a trendy drink now in coffee shop?\",\n",
       "   'summaries': ['Some of the trendy drinks in coffee shops in 2024 include Sea Salt Latte, Dalgona Coffee (whipped coffee), Blue Butterfly Pea Tea, Cold Brew coffee, Iced Matcha Cortado, Nitro Cold Brews, Snapp-chilled Coffee, and Mushroom Coffee. These drinks are popular for their unique flavors, textures, and health benefits, making them fashionable choices among coffee lovers this year.',\n",
       "    'A trendy drink now in coffee shops is cold coffee, especially cold brew and creative cold brew variations like draft cold brew combined with draft latte. Ready-to-drink cold espresso and non-alcoholic coffee cocktails are also gaining popularity, along with superfood-infused coffees featuring ingredients like turmeric, matcha, and adaptogenic mushrooms. Cafes are focusing on innovative and specialty drinks to offer unique experiences to customers.',\n",
       "    'Trendy drinks in coffee shops right now include cold brew coffee, known for its smooth and low-acid taste, and nitro coffee, which is cold brew infused with nitrogen to create a creamy texture and rich flavor. These innovative cold coffee options are particularly popular and visually appealing, making them hot choices in modern coffee shops.',\n",
       "    \"Trendy drinks in coffee shops now include cold brew and nitro cold brew, which are popular for their smooth and less bitter taste. Specialty artisan coffee drinks made with local roasters' beans are also on the rise. Buttered coffee is gaining popularity in celebrity and athlete circles. Additionally, custom ordering allows customers to create personalized coffee drinks, and milk alternatives like oat milk remain highly popular among younger generations and health-conscious consumers.\"]},\n",
       "  {'question': 'What bakery is popular now in a cafe?',\n",
       "   'summaries': ['Popular bakery cafes currently include Panera Bread, known for its wide variety of breads and pastries; Tim Hortons, famous for its donuts and Timbits; Au Bon Pain, offering diverse breads and croissants; as well as other chains like Bruegger’s Bagels, Great Harvest Bread Company, Einstein Bros. Bagels, La Madeleine, Corner Bakery Cafe, Pret a Manger, Paris Baguette, Tous le Jours, and Le Pain Quotidien. These chains are popular for their fresh baked goods and cafe offerings across the United States.',\n",
       "    'The most popular bakery item in cafes according to the content is coffee cake, ranked as the best coffee shop pastry due to its cinnamon and brown sugar flavors that pair excellently with coffee. Other popular pastries include pumpkin muffins, chocolate croissants, blueberry scones, cinnamon rolls, and cheese danishes, each offering unique flavors that complement coffee in different ways.',\n",
       "    'Popular bakery items in cafes currently include a variety of pastries such as Chocolate Almond Biscotti, Cinnamon Rolls, Blueberry Muffins, Chocolate Danish, Almond Croissants, Scones, Apple Strudel, Raspberry Tarts, Pain au Chocolat, Quiche Lorraine, Cherry Danish, Lemon Muffins, Cheese Danish, Pecan Pie Bars, Banana Bread, Chocolate Chip Cookies, Strawberry Shortcake, Pumpkin Spice Muffins, Coconut Macaroons, Chocolate Eclairs, Maple Pecan Twists, Vanilla Bean Madeleines, Matcha Green Tea Cake, Sticky Buns, Lemon Tarts, and Churros. These pastries are favored for their flavor, texture, and how well they complement coffee, making them popular choices in cafes.']}]}"
      ]
     },
     "execution_count": 6,
     "metadata": {},
     "output_type": "execute_result"
    }
   ],
   "source": [
    "result"
   ]
  },
  {
   "cell_type": "markdown",
   "id": "680776bc",
   "metadata": {},
   "source": [
    "## Understand ToolNode and How the ReACT agent would call it"
   ]
  },
  {
   "cell_type": "code",
   "execution_count": null,
   "id": "b54fc44f",
   "metadata": {},
   "outputs": [],
   "source": [
    "from langchain_core.messages import AIMessage, HumanMessage\n",
    "from langchain_core.tools import tool\n",
    "\n",
    "from langgraph.prebuilt import ToolNode\n",
    "\n",
    "@tool\n",
    "def get_weather(location: str):\n",
    "    \"\"\"Call to get the current weather.\"\"\"\n",
    "    if location.lower() in [\"sf\", \"san francisco\"]:\n",
    "        return {\"messages\": \"It's 60 degrees and foggy.\", \"args\": \"dummy\"}\n",
    "    else:\n",
    "        return \"It's 90 degrees and sunny.\"\n",
    "\n",
    "\n",
    "@tool\n",
    "def get_coolest_cities():\n",
    "    \"\"\"Get a list of coolest cities\"\"\"\n",
    "    return \"nyc, sf\"\n",
    "\n",
    "tools = [get_weather, get_coolest_cities]\n",
    "tool_node = ToolNode(tools)\n",
    "\n",
    "message_with_single_tool_call = AIMessage(\n",
    "    content=\"\",\n",
    "    tool_calls=[\n",
    "        {\n",
    "            \"name\": \"get_weather\",\n",
    "            \"args\": {\"location\": \"sf\"},\n",
    "            \"id\": \"tool_call_id\",\n",
    "            \"type\": \"tool_call\",\n",
    "        }\n",
    "    ],\n",
    ")\n",
    "\n",
    "tmp = tool_node.invoke({\"messages\": [message_with_single_tool_call]})"
   ]
  },
  {
   "cell_type": "code",
   "execution_count": 18,
   "id": "39585f8a",
   "metadata": {},
   "outputs": [
    {
     "data": {
      "text/plain": [
       "{'messages': [ToolMessage(content='[\"It\\'s 60 degrees and foggy.\", {\"args\": \"dummy\"}]', name='get_weather', tool_call_id='tool_call_id')]}"
      ]
     },
     "execution_count": 18,
     "metadata": {},
     "output_type": "execute_result"
    }
   ],
   "source": [
    "tmp"
   ]
  },
  {
   "cell_type": "code",
   "execution_count": 9,
   "id": "94f0fff9",
   "metadata": {},
   "outputs": [],
   "source": [
    "tool_result = tmp[\"messages\"][0]\n",
    "actual_tool_result = eval(tool_result.content)\n",
    "tool_result.content = actual_tool_result.pop(\"messages\")\n"
   ]
  },
  {
   "cell_type": "code",
   "execution_count": 10,
   "id": "ca519af0",
   "metadata": {},
   "outputs": [
    {
     "data": {
      "text/plain": [
       "ToolMessage(content=\"It's 60 degrees and foggy.\", name='get_weather', tool_call_id='tool_call_id')"
      ]
     },
     "metadata": {},
     "output_type": "display_data"
    },
    {
     "data": {
      "text/plain": [
       "{'args': 'dummy'}"
      ]
     },
     "metadata": {},
     "output_type": "display_data"
    }
   ],
   "source": [
    "from IPython.display import display\n",
    "\n",
    "display(tool_result)\n",
    "display(actual_tool_result)"
   ]
  },
  {
   "cell_type": "code",
   "execution_count": 15,
   "id": "743f5f6e",
   "metadata": {},
   "outputs": [
    {
     "name": "stdout",
     "output_type": "stream",
     "text": [
      "🔍 Extracting data insights...\n",
      "🌐 Searching external case studies...\n",
      "💬 Responding to user...\n",
      "\n",
      "📊 Final State:\n",
      "{'messages': [HumanMessage(content='Hello World', additional_kwargs={}, response_metadata={}, id='a02c8247-de8f-4952-b617-375a7374fda8'), AIMessage(content=\"Here are the insights I've found.\", additional_kwargs={}, response_metadata={}, id='4b9a466b-48b7-4544-9c07-c52968619a54')], 'data_insights': ['Sales increased 15% in Q1.'], 'search_insights': ['Bundling led to 25% more purchases.']}\n"
     ]
    }
   ],
   "source": [
    "from typing import Annotated\n",
    "from typing_extensions import TypedDict\n",
    "from langgraph.graph import StateGraph\n",
    "from langgraph.graph.message import AnyMessage, add_messages\n",
    "from operator import add\n",
    "\n",
    "# Step 1: Define State\n",
    "class BDState(TypedDict):\n",
    "    messages: Annotated[list[AnyMessage], add_messages]\n",
    "    data_insights: Annotated[list[str], add]\n",
    "    search_insights: Annotated[list[str], add]\n",
    "\n",
    "# Step 2: Define Node Functions\n",
    "def extract_data_insights(state: BDState) -> dict:\n",
    "    print(\"🔍 Extracting data insights...\")\n",
    "    return {\n",
    "        \"data_insights\": [\"Sales increased 15% in Q1.\"]\n",
    "    }\n",
    "\n",
    "def search_case_studies(state: BDState) -> dict:\n",
    "    print(\"🌐 Searching external case studies...\")\n",
    "    return {\n",
    "        \"search_insights\": [\"Bundling led to 25% more purchases.\"]\n",
    "    }\n",
    "\n",
    "def respond_to_user(state: BDState) -> dict:\n",
    "    print(\"💬 Responding to user...\")\n",
    "    msg = AIMessage(content=\"Here are the insights I've found.\")\n",
    "    return {\n",
    "        \"messages\": [msg]\n",
    "    }\n",
    "\n",
    "# Step 3: Create Graph\n",
    "builder = StateGraph(BDState)\n",
    "\n",
    "builder.add_node(\"extract_data\", extract_data_insights)\n",
    "builder.add_node(\"search_case_studies\", search_case_studies)\n",
    "builder.add_node(\"respond\", respond_to_user)\n",
    "\n",
    "# You can run in sequence or parallel (we'll do sequential for simplicity)\n",
    "builder.set_entry_point(\"extract_data\")\n",
    "builder.add_edge(\"extract_data\", \"search_case_studies\")\n",
    "builder.add_edge(\"search_case_studies\", \"respond\")\n",
    "\n",
    "graph = builder.compile()\n",
    "\n",
    "# Step 4: Run Graph\n",
    "initial_state = {\n",
    "    \"messages\": [HumanMessage(content = \"Hello World\")],\n",
    "    \"data_insights\": [],\n",
    "    \"search_insights\": []\n",
    "}\n",
    "\n",
    "final_state = graph.invoke(initial_state)\n",
    "\n",
    "# Step 5: Show Final State\n",
    "print(\"\\n📊 Final State:\")\n",
    "print(final_state)"
   ]
  },
  {
   "cell_type": "markdown",
   "id": "1cc4c0a6",
   "metadata": {},
   "source": [
    "## Try with actual BD Agents\n",
    "\n",
    "What it needs to do is -> Select tool calls. The agent can either call ask_da, do search_and_summarise, advice or answer.\n",
    "\n"
   ]
  },
  {
   "cell_type": "code",
   "execution_count": 7,
   "id": "ed58bb1b",
   "metadata": {},
   "outputs": [],
   "source": [
    "from langchain_core.messages import HumanMessage\n",
    "\n",
    "user_prompt = \"What are trendy menus in Cafe recently\"\n",
    "\n",
    "from agents.bd_agent.graph.state import BDState\n",
    "\n",
    "bd_state = BDState({\"messages\": [HumanMessage(content =  f\"<question>{user_prompt}</question>\")], \"schema_context\": state.schema_context, \"business_profile\": state.business_profile})\n",
    "\n",
    "from agents.bd_agent.graph.nodes import call_model\n",
    "result = call_model(bd_state)\n",
    "result[\"messages\"].tool_calls[0][\"args\"][\"queries\"] = result[\"messages\"].tool_calls[0][\"args\"][\"queries\"][:2]\n",
    "bd_state[\"messages\"] += [result[\"messages\"]]"
   ]
  },
  {
   "cell_type": "code",
   "execution_count": 9,
   "id": "492b1084",
   "metadata": {},
   "outputs": [
    {
     "data": {
      "text/plain": [
       "'tools'"
      ]
     },
     "execution_count": 9,
     "metadata": {},
     "output_type": "execute_result"
    }
   ],
   "source": [
    "from agents.bd_agent.graph.nodes import route_to_tools, call_tools\n",
    "\n",
    "route_to_tools(bd_state)"
   ]
  },
  {
   "cell_type": "code",
   "execution_count": 11,
   "id": "1deb0aa8",
   "metadata": {},
   "outputs": [
    {
     "name": "stdout",
     "output_type": "stream",
     "text": [
      "{'name': 'search_summary', 'args': {'thought': 'To identify trendy menus in cafes recently, I will search for current popular cafe menu trends, focusing on specialty coffee and light meals, as well as seasonal and Instagram-friendly items that attract young professionals and students. This will help provide relevant and up-to-date insights for the cafe business.', 'queries': ['trendy cafe menus 2024', 'popular specialty coffee drinks 2024'], 'graph_state': {'messages': [HumanMessage(content='<question>What are trendy menus in Cafe recently</question>', additional_kwargs={}, response_metadata={}), AIMessage(content='', additional_kwargs={'tool_calls': [{'id': 'call_smql0Swu3JSn1e2mE7rC45uH', 'function': {'arguments': '{\"thought\":\"To identify trendy menus in cafes recently, I will search for current popular cafe menu trends, focusing on specialty coffee and light meals, as well as seasonal and Instagram-friendly items that attract young professionals and students. This will help provide relevant and up-to-date insights for the cafe business.\",\"queries\":[\"trendy cafe menus 2024\",\"popular specialty coffee drinks 2024\",\"trendy light meals in cafes 2024\",\"seasonal cafe menu items 2024\",\"Instagram-friendly cafe menu trends 2024\"]}', 'name': 'search_summary'}, 'type': 'function'}], 'refusal': None}, response_metadata={'token_usage': {'completion_tokens': 116, 'prompt_tokens': 2984, 'total_tokens': 3100, 'completion_tokens_details': {'accepted_prediction_tokens': 0, 'audio_tokens': 0, 'reasoning_tokens': 0, 'rejected_prediction_tokens': 0}, 'prompt_tokens_details': {'audio_tokens': 0, 'cached_tokens': 2944}}, 'model_name': 'gpt-4.1-mini-2025-04-14', 'system_fingerprint': 'fp_79b79be41f', 'id': 'chatcmpl-BQXhESNlZr3gxz1Jdlb9nMWlvjQM3', 'finish_reason': 'tool_calls', 'logprobs': None}, id='run-13e59c1c-1cff-418a-9d46-105f6857c605-0', tool_calls=[{...}], usage_metadata={'input_tokens': 2984, 'output_tokens': 116, 'total_tokens': 3100, 'input_token_details': {'audio': 0, 'cache_read': 2944}, 'output_token_details': {'audio': 0, 'reasoning': 0}})], 'schema_context': '📁 `df_201904_sales_reciepts` — 201904 sales reciepts\\nLoaded datasets variable: df_201904_sales_reciepts_df\\nDataframe columns:\\n- `transaction_id`\\n  • Description: This column likely represents transaction_id.\\n  • Type: int64\\n  • Nulls: 0\\n  • Unique: 4203\\n  • Min: 1.00, Max: 4203.00\\n  • Sample: [7, 11, 19]\\n- `transaction_date`\\n  • Description: This column likely represents transaction_date.\\n  • Type: object\\n  • Nulls: 0\\n  • Unique: 29\\n  • Sample: [\\'2019-04-01\\', \\'2019-04-02\\', \\'2019-04-03\\']\\n- `transaction_time`\\n  • Description: This column likely represents transaction_time.\\n  • Type: object\\n  • Nulls: 0\\n  • Unique: 26074\\n  • Sample: [\\'12:04:43\\', \\'15:54:39\\', \\'14:34:59\\']\\n- `sales_outlet_id`\\n  • Description: This column likely represents sales_outlet_id.\\n  • Type: int64\\n  • Nulls: 0\\n  • Unique: 3\\n  • Min: 3.00, Max: 8.00\\n  • Sample: [3, 5, 8]\\n- `staff_id`\\n  • Description: This column likely represents staff_id.\\n  • Type: int64\\n  • Nulls: 0\\n  • Unique: 25\\n  • Min: 6.00, Max: 45.00\\n  • Sample: [12, 17, 30]\\n- `customer_id`\\n  • Description: This column likely represents customer_id.\\n  • Type: int64\\n  • Nulls: 0\\n  • Unique: 2248\\n  • Min: 0.00, Max: 8501.00\\n  • Sample: [558, 781, 788]\\n- `instore_yn`\\n  • Description: This column likely represents instore_yn.\\n  • Type: object\\n  • Nulls: 0\\n  • Unique: 3\\n  • Sample: [\\'N\\', \\'Y\\', \\' \\']\\n- `order`\\n  • Description: This column likely represents order.\\n  • Type: int64\\n  • Nulls: 0\\n  • Unique: 9\\n  • Min: 1.00, Max: 9.00\\n  • Sample: [1, 5, 9]\\n- `line_item_id`\\n  • Description: This column likely represents line_item_id.\\n  • Type: int64\\n  • Nulls: 0\\n  • Unique: 11\\n  • Min: 1.00, Max: 12.00\\n  • Sample: [1, 5, 2]\\n- `product_id`\\n  • Description: This column likely represents product_id.\\n  • Type: int64\\n  • Nulls: 0\\n  • Unique: 80\\n  • Min: 1.00, Max: 87.00\\n  • Sample: [52, 27, 46]\\n- `quantity`\\n  • Description: This column likely represents quantity.\\n  • Type: int64\\n  • Nulls: 0\\n  • Unique: 6\\n  • Min: 1.00, Max: 8.00\\n  • Sample: [1, 2, 4]\\n- `line_item_amount`\\n  • Description: This column likely represents line_item_amount.\\n  • Type: float64\\n  • Nulls: 0\\n  • Unique: 77\\n  • Min: 0.00, Max: 360.00\\n  • Sample: [2.5, 7.0, 5.0]\\n- `unit_price`\\n  • Description: This column likely represents unit_price.\\n  • Type: float64\\n  • Nulls: 0\\n  • Unique: 41\\n  • Min: 0.80, Max: 45.00\\n  • Sample: [2.5, 3.5, 2.45]\\n- `promo_item_yn`\\n  • Description: This column likely represents promo_item_yn.\\n  • Type: object\\n  • Nulls: 0\\n  • Unique: 2\\n  • Sample: [\\'N\\', \\'Y\\']\\n\\n📁 `customer` — customer\\nLoaded datasets variable: customer_df\\nDataframe columns:\\n- `customer_id`\\n  • Description: This column likely represents customer_id.\\n  • Type: int64\\n  • Nulls: 0\\n  • Unique: 2246\\n  • Min: 1.00, Max: 8501.00\\n  • Sample: [1, 2, 3]\\n- `home_store`\\n  • Description: This column likely represents home_store.\\n  • Type: int64\\n  • Nulls: 0\\n  • Unique: 3\\n  • Min: 3.00, Max: 8.00\\n  • Sample: [3, 5, 8]\\n- `customer_first-name`\\n  • Description: This column likely represents customer_first-name.\\n  • Type: object\\n  • Nulls: 0\\n  • Unique: 1640\\n  • Sample: [\\'Kelly Key\\', \\'Clark Schroeder\\', \\'Elvis Cardenas\\']\\n- `customer_email`\\n  • Description: This column likely represents customer_email.\\n  • Type: object\\n  • Nulls: 0\\n  • Unique: 2246\\n  • Sample: [\\'Venus@adipiscing.edu\\', \\'Nora@fames.gov\\', \\'Brianna@tellus.edu\\']\\n- `customer_since`\\n  • Description: This column likely represents customer_since.\\n  • Type: object\\n  • Nulls: 0\\n  • Unique: 794\\n  • Sample: [\\'2017-01-04\\', \\'2017-01-07\\', \\'2017-01-10\\']\\n- `loyalty_card_number`\\n  • Description: This column likely represents loyalty_card_number.\\n  • Type: object\\n  • Nulls: 0\\n  • Unique: 2246\\n  • Sample: [\\'908-424-2890\\', \\'032-732-6308\\', \\'459-375-9187\\']\\n- `birthdate`\\n  • Description: This column likely represents birthdate.\\n  • Type: object\\n  • Nulls: 0\\n  • Unique: 1883\\n  • Sample: [\\'1950-05-29\\', \\'1950-07-30\\', \\'1950-09-30\\']\\n- `gender`\\n  • Description: This column likely represents gender.\\n  • Type: object\\n  • Nulls: 0\\n  • Unique: 3\\n  • Sample: [\\'M\\', \\'F\\', \\'N\\']\\n- `birth_year`\\n  • Description: This column likely represents birth_year.\\n  • Type: int64\\n  • Nulls: 0\\n  • Unique: 52\\n  • Min: 1950.00, Max: 2001.00\\n  • Sample: [1950, 1951, 1952]\\n\\n📁 `product` — product\\nLoaded datasets variable: product_df\\nDataframe columns:\\n- `product_id`\\n  • Description: This column likely represents product_id.\\n  • Type: int64\\n  • Nulls: 0\\n  • Unique: 88\\n  • Min: 1.00, Max: 89.00\\n  • Sample: [1, 2, 3]\\n- `product_group`\\n  • Description: This column likely represents product_group.\\n  • Type: object\\n  • Nulls: 0\\n  • Unique: 5\\n  • Sample: [\\'Whole Bean/Teas\\', \\'Beverages\\', \\'Add-ons\\']\\n- `product_category`\\n  • Description: This column likely represents product_category.\\n  • Type: object\\n  • Nulls: 0\\n  • Unique: 9\\n  • Sample: [\\'Coffee beans\\', \\'Loose Tea\\', \\'Packaged Chocolate\\']\\n- `product_type`\\n  • Description: This column likely represents product_type.\\n  • Type: object\\n  • Nulls: 0\\n  • Unique: 31\\n  • Sample: [\\'Organic Beans\\', \\'House blend Beans\\', \\'Espresso Beans\\']\\n- `product`\\n  • Description: This column likely represents product.\\n  • Type: object\\n  • Nulls: 0\\n  • Unique: 88\\n  • Sample: [\\'Brazilian - Organic\\', \\'Our Old Time Diner Blend\\', \\'Espresso Roast\\']\\n- `product_description`\\n  • Description: This column likely represents product_description.\\n  • Type: object\\n  • Nulls: 0\\n  • Unique: 57\\n  • Sample: [\"It\\'s like Carnival in a cup. Clean and smooth.\", \\'Out packed blend of beans that is reminiscent of the cup of coffee you used to get at a diner. \\', \\'Our house blend for a good espresso shot.\\']\\n- `unit_of_measure`\\n  • Description: This column likely represents unit_of_measure.\\n  • Type: object\\n  • Nulls: 0\\n  • Unique: 13\\n  • Sample: [\\'12 oz\\', \\'1 lb\\', \\'.5 lb\\']\\n- `current_wholesale_price`\\n  • Description: This column likely represents current_wholesale_price.\\n  • Type: float64\\n  • Nulls: 0\\n  • Unique: 49\\n  • Min: 0.04, Max: 36.00\\n  • Sample: [14.4, 11.8, 16.36]\\n- `current_retail_price`\\n  • Description: This column likely represents current_retail_price.\\n  • Type: object\\n  • Nulls: 0\\n  • Unique: 40\\n  • Sample: [\\'$18.00 \\', \\'$14.75 \\', \\'$20.45 \\']\\n- `tax_exempt_yn`\\n  • Description: This column likely represents tax_exempt_yn.\\n  • Type: object\\n  • Nulls: 0\\n  • Unique: 2\\n  • Sample: [\\'Y\\', \\'N\\']\\n- `promo_yn`\\n  • Description: This column likely represents promo_yn.\\n  • Type: object\\n  • Nulls: 0\\n  • Unique: 2\\n  • Sample: [\\'N\\', \\'Y\\']\\n- `new_product_yn`\\n  • Description: This column likely represents new_product_yn.\\n  • Type: object\\n  • Nulls: 0\\n  • Unique: 2\\n  • Sample: [\\'N\\', \\'Y\\']', 'business_profile': {'type': 'Cafe', 'details': 'Independent neighborhood cafe located in a busy urban area, serving specialty coffee and light meals. Targets young professionals and students. Medium foot traffic, strong competition from chain coffee shops. Focused on in-store experience and Instagram-friendly ambiance. Operates 7 days a week with peak hours in the morning and late afternoon. Interested in increasing repeat customers and promoting seasonal items.'}}}, 'id': 'call_smql0Swu3JSn1e2mE7rC45uH', 'type': 'tool_call'}\n"
     ]
    },
    {
     "name": "stderr",
     "output_type": "stream",
     "text": [
      "100%|██████████| 2/2 [03:20<00:00, 100.43s/it]"
     ]
    },
    {
     "name": "stdout",
     "output_type": "stream",
     "text": [
      "[ToolMessage(content='{\"messages\": \"Question: trendy cafe menus 2024\\\\nSummaries: Trendy cafe menus in 2024 feature several key trends: low- and no-alcohol drinks crafted with sophistication; increased snacking options blurring traditional meal times; immersive dining experiences with interactive and elevated presentations; the rise of Korean cuisine with ingredients like gochujang and kimchi and interactive dining formats; a shift towards mid-week and earlier dining times; and the popular use of sweet heat flavors such as hot honey and sweet-spicy sauces. These trends reflect consumer preferences for mindful drinking, convenience, experiential dining, global flavors, and bold tastes.\\\\n  - The top trendy cafe menu trends for 2024 include: 1) Flavor Shock - bold fusion and eclectic cooking styles; 2) Plant-Powered Proteins - flexitarian dishes focusing on plant-rich proteins; 3) Local Abundance - using and celebrating locally sourced ingredients; 4) Low-Waste Menus - creative use of ingredients to reduce waste; 5) Irresistible Vegetables - visually appealing and nutritious vegetable dishes; 6) Modernized Comfort Food - innovative recipes with cultural and personal narratives; 7) Feel-Good Food - nutrient-dense, visually appealing healthy options including new ingredients like kefir and mushrooms; and 8) The New Sharing - playful, multi-sensory shared dining experiences. These trends emphasize creativity, sustainability, health, and community in cafe menus for 2024.\\\\n  - The provided web content does not include any information about trendy cafe menus for 2024. Hence, no summary or details about café trends in 2024 can be given based on this source.\\\\n  - Trendy cafe menus in 2024 will feature a variety of innovative and popular items including chef-driven happy hour menus with diverse alcohol options and low- or no-alcohol drinks, dishes catering to solo diners, and Venezuelan flavors such as guasacaca and arepas. Sour flavors like tamarind will be prominent, alongside sustainable ingredients like algae and celery root as a versatile vegetable. Nostalgic desserts and international soups will also be popular. Additionally, shareable food boards with unique meats and seafood (seacuterie) and menu items inspired by social media microtrends will influence menus. Overall, 2024 cafe menus will blend comfort, curiosity, and sustainability.\\\\n  - Trendy cafe menus in 2024 feature popular dishes like creatively enhanced Caesar salads, caviar, yuzu, fried chicken, nostalgic desserts, and panna cotta. Menus are often smaller, more colorful, informal, and include unique mascots or handwritten details to add personality. There is a strong emphasis on highlighting staff and labor values, with many menus including service charges for employee benefits. Menu layouts favor size-based categories over traditional courses, and there is a notable inclusion of alcohol-free beverage sections offering complex non-alcoholic drinks. Overall, 2024 cafe menus combine innovative food offerings with distinctive, approachable design and a focus on social values.\\\\nQuestion: popular specialty coffee drinks 2024\\\\nSummaries: In 2024, the most popular specialty coffee drinks include espresso (top choice in 28 states), lattes (preferred in 14 states), and cappuccinos (favored in 11 states). Cold brew and nitro cold brew are also highly popular for their smooth texture and lower acidity. Innovative coffee cocktails, such as the espresso martini, are trending as well. Coffee culture is influenced by social media, advancements in brewing technology, and a growing interest in single-origin coffees and health-conscious options like plant-based milks and decaffeinated drinks.\\\\n  - Popular specialty coffee drinks in 2024 include hot drinks like Sea Salt Latte, Dalgona Coffee (whipped coffee), and Blue Butterfly Pea Tea, as well as cold drinks such as Cold Brew, Iced Matcha Cortado, Nitro Cold Brews, Snapp-chilled™ Coffee, and Mushroom Coffee. These drinks are trending due to their unique flavors, health benefits, and innovative brewing techniques.\\\\n  - In 2024, popular specialty coffee drinks include high-quality, sustainably sourced single-origin coffees that emphasize the story behind the beans. Ready-to-drink (RTD) coffee varieties such as iced coffee, cold brew, and nitro coffee are also trending, especially among younger consumers. Additionally, specialty coffees made with barista-style alternative milks (like oat and almond) and functional coffees enhanced with ingredients like adaptogens or collagen are gaining popularity. Sustainability remains a key aspect of specialty coffee trends this year.\\\\n  - Popular specialty coffee drinks in 2024 include cold brew coffee, which continues to grow in popularity due to its smooth texture and low acidity, and single origin coffee beans that offer unique flavor profiles from specific regions. Additionally, there is a trend of making elaborate, personalized coffee drinks at home using high-quality espresso machines and creative recipes, reflecting a \\'cafe core\\' vibe. Sustainability and traceability in coffee sourcing are also important trends influencing specialty coffee choices.\\\\n  - In 2024, popular specialty coffee drinks include espresso-based beverages such as lattes and cappuccinos, and non-espresso-based drinks like frozen blends, cold brew, and nitro coffee. Ready-to-drink specialty coffee has also surged in popularity, becoming the third most popular preparation method among specialty coffee drinkers. Specialty coffee consumption is highest among adults aged 25-39, with espresso and non-espresso beverages both increasing in popularity.\\\\n\", \"search_insights\": [{\"question\": \"trendy cafe menus 2024\", \"summaries\": [\"Trendy cafe menus in 2024 feature several key trends: low- and no-alcohol drinks crafted with sophistication; increased snacking options blurring traditional meal times; immersive dining experiences with interactive and elevated presentations; the rise of Korean cuisine with ingredients like gochujang and kimchi and interactive dining formats; a shift towards mid-week and earlier dining times; and the popular use of sweet heat flavors such as hot honey and sweet-spicy sauces. These trends reflect consumer preferences for mindful drinking, convenience, experiential dining, global flavors, and bold tastes.\", \"The top trendy cafe menu trends for 2024 include: 1) Flavor Shock - bold fusion and eclectic cooking styles; 2) Plant-Powered Proteins - flexitarian dishes focusing on plant-rich proteins; 3) Local Abundance - using and celebrating locally sourced ingredients; 4) Low-Waste Menus - creative use of ingredients to reduce waste; 5) Irresistible Vegetables - visually appealing and nutritious vegetable dishes; 6) Modernized Comfort Food - innovative recipes with cultural and personal narratives; 7) Feel-Good Food - nutrient-dense, visually appealing healthy options including new ingredients like kefir and mushrooms; and 8) The New Sharing - playful, multi-sensory shared dining experiences. These trends emphasize creativity, sustainability, health, and community in cafe menus for 2024.\", \"The provided web content does not include any information about trendy cafe menus for 2024. Hence, no summary or details about café trends in 2024 can be given based on this source.\", \"Trendy cafe menus in 2024 will feature a variety of innovative and popular items including chef-driven happy hour menus with diverse alcohol options and low- or no-alcohol drinks, dishes catering to solo diners, and Venezuelan flavors such as guasacaca and arepas. Sour flavors like tamarind will be prominent, alongside sustainable ingredients like algae and celery root as a versatile vegetable. Nostalgic desserts and international soups will also be popular. Additionally, shareable food boards with unique meats and seafood (seacuterie) and menu items inspired by social media microtrends will influence menus. Overall, 2024 cafe menus will blend comfort, curiosity, and sustainability.\", \"Trendy cafe menus in 2024 feature popular dishes like creatively enhanced Caesar salads, caviar, yuzu, fried chicken, nostalgic desserts, and panna cotta. Menus are often smaller, more colorful, informal, and include unique mascots or handwritten details to add personality. There is a strong emphasis on highlighting staff and labor values, with many menus including service charges for employee benefits. Menu layouts favor size-based categories over traditional courses, and there is a notable inclusion of alcohol-free beverage sections offering complex non-alcoholic drinks. Overall, 2024 cafe menus combine innovative food offerings with distinctive, approachable design and a focus on social values.\"]}, {\"question\": \"popular specialty coffee drinks 2024\", \"summaries\": [\"In 2024, the most popular specialty coffee drinks include espresso (top choice in 28 states), lattes (preferred in 14 states), and cappuccinos (favored in 11 states). Cold brew and nitro cold brew are also highly popular for their smooth texture and lower acidity. Innovative coffee cocktails, such as the espresso martini, are trending as well. Coffee culture is influenced by social media, advancements in brewing technology, and a growing interest in single-origin coffees and health-conscious options like plant-based milks and decaffeinated drinks.\", \"Popular specialty coffee drinks in 2024 include hot drinks like Sea Salt Latte, Dalgona Coffee (whipped coffee), and Blue Butterfly Pea Tea, as well as cold drinks such as Cold Brew, Iced Matcha Cortado, Nitro Cold Brews, Snapp-chilled™ Coffee, and Mushroom Coffee. These drinks are trending due to their unique flavors, health benefits, and innovative brewing techniques.\", \"In 2024, popular specialty coffee drinks include high-quality, sustainably sourced single-origin coffees that emphasize the story behind the beans. Ready-to-drink (RTD) coffee varieties such as iced coffee, cold brew, and nitro coffee are also trending, especially among younger consumers. Additionally, specialty coffees made with barista-style alternative milks (like oat and almond) and functional coffees enhanced with ingredients like adaptogens or collagen are gaining popularity. Sustainability remains a key aspect of specialty coffee trends this year.\", \"Popular specialty coffee drinks in 2024 include cold brew coffee, which continues to grow in popularity due to its smooth texture and low acidity, and single origin coffee beans that offer unique flavor profiles from specific regions. Additionally, there is a trend of making elaborate, personalized coffee drinks at home using high-quality espresso machines and creative recipes, reflecting a \\'cafe core\\' vibe. Sustainability and traceability in coffee sourcing are also important trends influencing specialty coffee choices.\", \"In 2024, popular specialty coffee drinks include espresso-based beverages such as lattes and cappuccinos, and non-espresso-based drinks like frozen blends, cold brew, and nitro coffee. Ready-to-drink specialty coffee has also surged in popularity, becoming the third most popular preparation method among specialty coffee drinkers. Specialty coffee consumption is highest among adults aged 25-39, with espresso and non-espresso beverages both increasing in popularity.\"]}]}', name='search_summary', tool_call_id='call_smql0Swu3JSn1e2mE7rC45uH')]\n"
     ]
    },
    {
     "name": "stderr",
     "output_type": "stream",
     "text": [
      "\n"
     ]
    }
   ],
   "source": [
    "search_result = call_tools(bd_state)"
   ]
  },
  {
   "cell_type": "code",
   "execution_count": 54,
   "id": "567387b7",
   "metadata": {},
   "outputs": [
    {
     "data": {
      "text/plain": [
       "tools(tags=None, recurse=True, explode_args=False, func_accepts_config=True, func_accepts={'store': ('__pregel_store', None)}, tools_by_name={'search_summary': StructuredTool(name='search_summary', description='Search and summarize web content for a list of queries.', args_schema=<class 'langchain_core.utils.pydantic.search_summary'>, func=<function search_summary at 0x7ff7af92cd30>)}, tool_to_state_args={'search_summary': {'graph_state': None}}, tool_to_store_arg={'search_summary': None}, handle_tool_errors=True, messages_key='messages')"
      ]
     },
     "execution_count": 54,
     "metadata": {},
     "output_type": "execute_result"
    }
   ],
   "source": [
    "tool_node"
   ]
  },
  {
   "cell_type": "markdown",
   "id": "82d16777",
   "metadata": {},
   "source": [
    "## Build BD Agent"
   ]
  },
  {
   "cell_type": "code",
   "execution_count": null,
   "id": "dda029c1",
   "metadata": {},
   "outputs": [],
   "source": [
    "from langgraph.graph import StateGraph\n",
    "from agents.bd_agent.graph.nodes import call_model, call_tools, route_to_tools\n",
    "from agents.bd_agent.graph.state import BDState\n",
    "\n",
    "class BDAgent(object):\n",
    "    def __init__(self):\n",
    "        super().__init__()\n",
    "        self.graph = self.create_graph()\n",
    "        \n",
    "    def create_graph(self):\n",
    "        workflow = StateGraph(AgentState)\n",
    "        workflow.add_node('agent', call_model)\n",
    "        workflow.add_node('tools', call_tools)\n",
    "\n",
    "        workflow.add_conditional_edges('agent', route_to_tools)\n",
    "\n",
    "        workflow.add_edge('tools', 'agent')\n",
    "        workflow.set_entry_point('agent')\n",
    "        return workflow.compile()\n",
    "    \n",
    "bd_agent = BDAgent()"
   ]
  },
  {
   "cell_type": "code",
   "execution_count": 6,
   "id": "1d9e59e8",
   "metadata": {},
   "outputs": [],
   "source": [
    "from agents.bd_agent.graph.state import BDState\n",
    "from langchain_core.messages import HumanMessage\n",
    "\n",
    "\n",
    "user_prompt = \"What are the trendy menu I should add to my cafe's\"\n",
    "bd_state = BDState({\"messages\": [HumanMessage(content =  f\"<question>{user_prompt}</question>\")], \"schema_context\": state.schema_context, \"business_profile\": state.business_profile})"
   ]
  },
  {
   "cell_type": "code",
   "execution_count": 9,
   "id": "fd23ef91",
   "metadata": {},
   "outputs": [
    {
     "data": {
      "text/plain": [
       "{'messages': [HumanMessage(content=\"<question>What are the trendy menu I should add to my cafe's</question>\", additional_kwargs={}, response_metadata={})],\n",
       " 'schema_context': '📁 `df_201904_sales_reciepts` — 201904 sales reciepts\\nLoaded datasets variable: df_201904_sales_reciepts_df\\nDataframe columns:\\n- `transaction_id`\\n  • Description: This column likely represents transaction_id.\\n  • Type: int64\\n  • Nulls: 0\\n  • Unique: 4203\\n  • Min: 1.00, Max: 4203.00\\n  • Sample: [7, 11, 19]\\n- `transaction_date`\\n  • Description: This column likely represents transaction_date.\\n  • Type: object\\n  • Nulls: 0\\n  • Unique: 29\\n  • Sample: [\\'2019-04-01\\', \\'2019-04-02\\', \\'2019-04-03\\']\\n- `transaction_time`\\n  • Description: This column likely represents transaction_time.\\n  • Type: object\\n  • Nulls: 0\\n  • Unique: 26074\\n  • Sample: [\\'12:04:43\\', \\'15:54:39\\', \\'14:34:59\\']\\n- `sales_outlet_id`\\n  • Description: This column likely represents sales_outlet_id.\\n  • Type: int64\\n  • Nulls: 0\\n  • Unique: 3\\n  • Min: 3.00, Max: 8.00\\n  • Sample: [3, 5, 8]\\n- `staff_id`\\n  • Description: This column likely represents staff_id.\\n  • Type: int64\\n  • Nulls: 0\\n  • Unique: 25\\n  • Min: 6.00, Max: 45.00\\n  • Sample: [12, 17, 30]\\n- `customer_id`\\n  • Description: This column likely represents customer_id.\\n  • Type: int64\\n  • Nulls: 0\\n  • Unique: 2248\\n  • Min: 0.00, Max: 8501.00\\n  • Sample: [558, 781, 788]\\n- `instore_yn`\\n  • Description: This column likely represents instore_yn.\\n  • Type: object\\n  • Nulls: 0\\n  • Unique: 3\\n  • Sample: [\\'N\\', \\'Y\\', \\' \\']\\n- `order`\\n  • Description: This column likely represents order.\\n  • Type: int64\\n  • Nulls: 0\\n  • Unique: 9\\n  • Min: 1.00, Max: 9.00\\n  • Sample: [1, 5, 9]\\n- `line_item_id`\\n  • Description: This column likely represents line_item_id.\\n  • Type: int64\\n  • Nulls: 0\\n  • Unique: 11\\n  • Min: 1.00, Max: 12.00\\n  • Sample: [1, 5, 2]\\n- `product_id`\\n  • Description: This column likely represents product_id.\\n  • Type: int64\\n  • Nulls: 0\\n  • Unique: 80\\n  • Min: 1.00, Max: 87.00\\n  • Sample: [52, 27, 46]\\n- `quantity`\\n  • Description: This column likely represents quantity.\\n  • Type: int64\\n  • Nulls: 0\\n  • Unique: 6\\n  • Min: 1.00, Max: 8.00\\n  • Sample: [1, 2, 4]\\n- `line_item_amount`\\n  • Description: This column likely represents line_item_amount.\\n  • Type: float64\\n  • Nulls: 0\\n  • Unique: 77\\n  • Min: 0.00, Max: 360.00\\n  • Sample: [2.5, 7.0, 5.0]\\n- `unit_price`\\n  • Description: This column likely represents unit_price.\\n  • Type: float64\\n  • Nulls: 0\\n  • Unique: 41\\n  • Min: 0.80, Max: 45.00\\n  • Sample: [2.5, 3.5, 2.45]\\n- `promo_item_yn`\\n  • Description: This column likely represents promo_item_yn.\\n  • Type: object\\n  • Nulls: 0\\n  • Unique: 2\\n  • Sample: [\\'N\\', \\'Y\\']\\n\\n📁 `customer` — customer\\nLoaded datasets variable: customer_df\\nDataframe columns:\\n- `customer_id`\\n  • Description: This column likely represents customer_id.\\n  • Type: int64\\n  • Nulls: 0\\n  • Unique: 2246\\n  • Min: 1.00, Max: 8501.00\\n  • Sample: [1, 2, 3]\\n- `home_store`\\n  • Description: This column likely represents home_store.\\n  • Type: int64\\n  • Nulls: 0\\n  • Unique: 3\\n  • Min: 3.00, Max: 8.00\\n  • Sample: [3, 5, 8]\\n- `customer_first-name`\\n  • Description: This column likely represents customer_first-name.\\n  • Type: object\\n  • Nulls: 0\\n  • Unique: 1640\\n  • Sample: [\\'Kelly Key\\', \\'Clark Schroeder\\', \\'Elvis Cardenas\\']\\n- `customer_email`\\n  • Description: This column likely represents customer_email.\\n  • Type: object\\n  • Nulls: 0\\n  • Unique: 2246\\n  • Sample: [\\'Venus@adipiscing.edu\\', \\'Nora@fames.gov\\', \\'Brianna@tellus.edu\\']\\n- `customer_since`\\n  • Description: This column likely represents customer_since.\\n  • Type: object\\n  • Nulls: 0\\n  • Unique: 794\\n  • Sample: [\\'2017-01-04\\', \\'2017-01-07\\', \\'2017-01-10\\']\\n- `loyalty_card_number`\\n  • Description: This column likely represents loyalty_card_number.\\n  • Type: object\\n  • Nulls: 0\\n  • Unique: 2246\\n  • Sample: [\\'908-424-2890\\', \\'032-732-6308\\', \\'459-375-9187\\']\\n- `birthdate`\\n  • Description: This column likely represents birthdate.\\n  • Type: object\\n  • Nulls: 0\\n  • Unique: 1883\\n  • Sample: [\\'1950-05-29\\', \\'1950-07-30\\', \\'1950-09-30\\']\\n- `gender`\\n  • Description: This column likely represents gender.\\n  • Type: object\\n  • Nulls: 0\\n  • Unique: 3\\n  • Sample: [\\'M\\', \\'F\\', \\'N\\']\\n- `birth_year`\\n  • Description: This column likely represents birth_year.\\n  • Type: int64\\n  • Nulls: 0\\n  • Unique: 52\\n  • Min: 1950.00, Max: 2001.00\\n  • Sample: [1950, 1951, 1952]\\n\\n📁 `product` — product\\nLoaded datasets variable: product_df\\nDataframe columns:\\n- `product_id`\\n  • Description: This column likely represents product_id.\\n  • Type: int64\\n  • Nulls: 0\\n  • Unique: 88\\n  • Min: 1.00, Max: 89.00\\n  • Sample: [1, 2, 3]\\n- `product_group`\\n  • Description: This column likely represents product_group.\\n  • Type: object\\n  • Nulls: 0\\n  • Unique: 5\\n  • Sample: [\\'Whole Bean/Teas\\', \\'Beverages\\', \\'Add-ons\\']\\n- `product_category`\\n  • Description: This column likely represents product_category.\\n  • Type: object\\n  • Nulls: 0\\n  • Unique: 9\\n  • Sample: [\\'Coffee beans\\', \\'Loose Tea\\', \\'Packaged Chocolate\\']\\n- `product_type`\\n  • Description: This column likely represents product_type.\\n  • Type: object\\n  • Nulls: 0\\n  • Unique: 31\\n  • Sample: [\\'Organic Beans\\', \\'House blend Beans\\', \\'Espresso Beans\\']\\n- `product`\\n  • Description: This column likely represents product.\\n  • Type: object\\n  • Nulls: 0\\n  • Unique: 88\\n  • Sample: [\\'Brazilian - Organic\\', \\'Our Old Time Diner Blend\\', \\'Espresso Roast\\']\\n- `product_description`\\n  • Description: This column likely represents product_description.\\n  • Type: object\\n  • Nulls: 0\\n  • Unique: 57\\n  • Sample: [\"It\\'s like Carnival in a cup. Clean and smooth.\", \\'Out packed blend of beans that is reminiscent of the cup of coffee you used to get at a diner. \\', \\'Our house blend for a good espresso shot.\\']\\n- `unit_of_measure`\\n  • Description: This column likely represents unit_of_measure.\\n  • Type: object\\n  • Nulls: 0\\n  • Unique: 13\\n  • Sample: [\\'12 oz\\', \\'1 lb\\', \\'.5 lb\\']\\n- `current_wholesale_price`\\n  • Description: This column likely represents current_wholesale_price.\\n  • Type: float64\\n  • Nulls: 0\\n  • Unique: 49\\n  • Min: 0.04, Max: 36.00\\n  • Sample: [14.4, 11.8, 16.36]\\n- `current_retail_price`\\n  • Description: This column likely represents current_retail_price.\\n  • Type: object\\n  • Nulls: 0\\n  • Unique: 40\\n  • Sample: [\\'$18.00 \\', \\'$14.75 \\', \\'$20.45 \\']\\n- `tax_exempt_yn`\\n  • Description: This column likely represents tax_exempt_yn.\\n  • Type: object\\n  • Nulls: 0\\n  • Unique: 2\\n  • Sample: [\\'Y\\', \\'N\\']\\n- `promo_yn`\\n  • Description: This column likely represents promo_yn.\\n  • Type: object\\n  • Nulls: 0\\n  • Unique: 2\\n  • Sample: [\\'N\\', \\'Y\\']\\n- `new_product_yn`\\n  • Description: This column likely represents new_product_yn.\\n  • Type: object\\n  • Nulls: 0\\n  • Unique: 2\\n  • Sample: [\\'N\\', \\'Y\\']',\n",
       " 'business_profile': {'type': 'Cafe',\n",
       "  'details': 'Independent neighborhood cafe located in a busy urban area, serving specialty coffee and light meals. Targets young professionals and students. Medium foot traffic, strong competition from chain coffee shops. Focused on in-store experience and Instagram-friendly ambiance. Operates 7 days a week with peak hours in the morning and late afternoon. Interested in increasing repeat customers and promoting seasonal items.'}}"
      ]
     },
     "execution_count": 9,
     "metadata": {},
     "output_type": "execute_result"
    }
   ],
   "source": [
    "bd_state"
   ]
  },
  {
   "cell_type": "code",
   "execution_count": 8,
   "id": "88dc3955",
   "metadata": {},
   "outputs": [
    {
     "name": "stderr",
     "output_type": "stream",
     "text": [
      "2025-04-26 20:15:08,401 - stratpilot - INFO - [Current State] []\n"
     ]
    },
    {
     "ename": "KeyError",
     "evalue": "'schema_context'",
     "output_type": "error",
     "traceback": [
      "\u001b[0;31m---------------------------------------------------------------------------\u001b[0m",
      "\u001b[0;31mKeyError\u001b[0m                                  Traceback (most recent call last)",
      "Cell \u001b[0;32mIn[8], line 1\u001b[0m\n\u001b[0;32m----> 1\u001b[0m \u001b[43mbd_agent\u001b[49m\u001b[38;5;241;43m.\u001b[39;49m\u001b[43mgraph\u001b[49m\u001b[38;5;241;43m.\u001b[39;49m\u001b[43minvoke\u001b[49m\u001b[43m(\u001b[49m\u001b[43m{\u001b[49m\u001b[38;5;124;43m\"\u001b[39;49m\u001b[38;5;124;43mstate\u001b[39;49m\u001b[38;5;124;43m\"\u001b[39;49m\u001b[43m:\u001b[49m\u001b[43mbd_state\u001b[49m\u001b[43m}\u001b[49m\u001b[43m)\u001b[49m\n",
      "File \u001b[0;32m/mnt/d/Agentic Hackathon/agentic-app/env/lib/python3.10/site-packages/langgraph/pregel/__init__.py:2718\u001b[0m, in \u001b[0;36mPregel.invoke\u001b[0;34m(self, input, config, stream_mode, output_keys, interrupt_before, interrupt_after, checkpoint_during, debug, **kwargs)\u001b[0m\n\u001b[1;32m   2716\u001b[0m \u001b[38;5;28;01melse\u001b[39;00m:\n\u001b[1;32m   2717\u001b[0m     chunks \u001b[38;5;241m=\u001b[39m []\n\u001b[0;32m-> 2718\u001b[0m \u001b[38;5;28;01mfor\u001b[39;00m chunk \u001b[38;5;129;01min\u001b[39;00m \u001b[38;5;28mself\u001b[39m\u001b[38;5;241m.\u001b[39mstream(\n\u001b[1;32m   2719\u001b[0m     \u001b[38;5;28minput\u001b[39m,\n\u001b[1;32m   2720\u001b[0m     config,\n\u001b[1;32m   2721\u001b[0m     stream_mode\u001b[38;5;241m=\u001b[39mstream_mode,\n\u001b[1;32m   2722\u001b[0m     output_keys\u001b[38;5;241m=\u001b[39moutput_keys,\n\u001b[1;32m   2723\u001b[0m     interrupt_before\u001b[38;5;241m=\u001b[39minterrupt_before,\n\u001b[1;32m   2724\u001b[0m     interrupt_after\u001b[38;5;241m=\u001b[39minterrupt_after,\n\u001b[1;32m   2725\u001b[0m     checkpoint_during\u001b[38;5;241m=\u001b[39mcheckpoint_during,\n\u001b[1;32m   2726\u001b[0m     debug\u001b[38;5;241m=\u001b[39mdebug,\n\u001b[1;32m   2727\u001b[0m     \u001b[38;5;241m*\u001b[39m\u001b[38;5;241m*\u001b[39mkwargs,\n\u001b[1;32m   2728\u001b[0m ):\n\u001b[1;32m   2729\u001b[0m     \u001b[38;5;28;01mif\u001b[39;00m stream_mode \u001b[38;5;241m==\u001b[39m \u001b[38;5;124m\"\u001b[39m\u001b[38;5;124mvalues\u001b[39m\u001b[38;5;124m\"\u001b[39m:\n\u001b[1;32m   2730\u001b[0m         latest \u001b[38;5;241m=\u001b[39m chunk\n",
      "File \u001b[0;32m/mnt/d/Agentic Hackathon/agentic-app/env/lib/python3.10/site-packages/langgraph/pregel/__init__.py:2356\u001b[0m, in \u001b[0;36mPregel.stream\u001b[0;34m(self, input, config, stream_mode, output_keys, interrupt_before, interrupt_after, checkpoint_during, debug, subgraphs)\u001b[0m\n\u001b[1;32m   2350\u001b[0m     \u001b[38;5;66;03m# Similarly to Bulk Synchronous Parallel / Pregel model\u001b[39;00m\n\u001b[1;32m   2351\u001b[0m     \u001b[38;5;66;03m# computation proceeds in steps, while there are channel updates.\u001b[39;00m\n\u001b[1;32m   2352\u001b[0m     \u001b[38;5;66;03m# Channel updates from step N are only visible in step N+1\u001b[39;00m\n\u001b[1;32m   2353\u001b[0m     \u001b[38;5;66;03m# channels are guaranteed to be immutable for the duration of the step,\u001b[39;00m\n\u001b[1;32m   2354\u001b[0m     \u001b[38;5;66;03m# with channel updates applied only at the transition between steps.\u001b[39;00m\n\u001b[1;32m   2355\u001b[0m     \u001b[38;5;28;01mwhile\u001b[39;00m loop\u001b[38;5;241m.\u001b[39mtick(input_keys\u001b[38;5;241m=\u001b[39m\u001b[38;5;28mself\u001b[39m\u001b[38;5;241m.\u001b[39minput_channels):\n\u001b[0;32m-> 2356\u001b[0m         \u001b[38;5;28;01mfor\u001b[39;00m _ \u001b[38;5;129;01min\u001b[39;00m runner\u001b[38;5;241m.\u001b[39mtick(\n\u001b[1;32m   2357\u001b[0m             loop\u001b[38;5;241m.\u001b[39mtasks\u001b[38;5;241m.\u001b[39mvalues(),\n\u001b[1;32m   2358\u001b[0m             timeout\u001b[38;5;241m=\u001b[39m\u001b[38;5;28mself\u001b[39m\u001b[38;5;241m.\u001b[39mstep_timeout,\n\u001b[1;32m   2359\u001b[0m             retry_policy\u001b[38;5;241m=\u001b[39m\u001b[38;5;28mself\u001b[39m\u001b[38;5;241m.\u001b[39mretry_policy,\n\u001b[1;32m   2360\u001b[0m             get_waiter\u001b[38;5;241m=\u001b[39mget_waiter,\n\u001b[1;32m   2361\u001b[0m         ):\n\u001b[1;32m   2362\u001b[0m             \u001b[38;5;66;03m# emit output\u001b[39;00m\n\u001b[1;32m   2363\u001b[0m             \u001b[38;5;28;01myield from\u001b[39;00m output()\n\u001b[1;32m   2364\u001b[0m \u001b[38;5;66;03m# emit output\u001b[39;00m\n",
      "File \u001b[0;32m/mnt/d/Agentic Hackathon/agentic-app/env/lib/python3.10/site-packages/langgraph/pregel/runner.py:158\u001b[0m, in \u001b[0;36mPregelRunner.tick\u001b[0;34m(self, tasks, reraise, timeout, retry_policy, get_waiter)\u001b[0m\n\u001b[1;32m    156\u001b[0m t \u001b[38;5;241m=\u001b[39m tasks[\u001b[38;5;241m0\u001b[39m]\n\u001b[1;32m    157\u001b[0m \u001b[38;5;28;01mtry\u001b[39;00m:\n\u001b[0;32m--> 158\u001b[0m     \u001b[43mrun_with_retry\u001b[49m\u001b[43m(\u001b[49m\n\u001b[1;32m    159\u001b[0m \u001b[43m        \u001b[49m\u001b[43mt\u001b[49m\u001b[43m,\u001b[49m\n\u001b[1;32m    160\u001b[0m \u001b[43m        \u001b[49m\u001b[43mretry_policy\u001b[49m\u001b[43m,\u001b[49m\n\u001b[1;32m    161\u001b[0m \u001b[43m        \u001b[49m\u001b[43mconfigurable\u001b[49m\u001b[38;5;241;43m=\u001b[39;49m\u001b[43m{\u001b[49m\n\u001b[1;32m    162\u001b[0m \u001b[43m            \u001b[49m\u001b[43mCONFIG_KEY_CALL\u001b[49m\u001b[43m:\u001b[49m\u001b[43m \u001b[49m\u001b[43mpartial\u001b[49m\u001b[43m(\u001b[49m\n\u001b[1;32m    163\u001b[0m \u001b[43m                \u001b[49m\u001b[43m_call\u001b[49m\u001b[43m,\u001b[49m\n\u001b[1;32m    164\u001b[0m \u001b[43m                \u001b[49m\u001b[43mweakref\u001b[49m\u001b[38;5;241;43m.\u001b[39;49m\u001b[43mref\u001b[49m\u001b[43m(\u001b[49m\u001b[43mt\u001b[49m\u001b[43m)\u001b[49m\u001b[43m,\u001b[49m\n\u001b[1;32m    165\u001b[0m \u001b[43m                \u001b[49m\u001b[43mretry\u001b[49m\u001b[38;5;241;43m=\u001b[39;49m\u001b[43mretry_policy\u001b[49m\u001b[43m,\u001b[49m\n\u001b[1;32m    166\u001b[0m \u001b[43m                \u001b[49m\u001b[43mfutures\u001b[49m\u001b[38;5;241;43m=\u001b[39;49m\u001b[43mweakref\u001b[49m\u001b[38;5;241;43m.\u001b[39;49m\u001b[43mref\u001b[49m\u001b[43m(\u001b[49m\u001b[43mfutures\u001b[49m\u001b[43m)\u001b[49m\u001b[43m,\u001b[49m\n\u001b[1;32m    167\u001b[0m \u001b[43m                \u001b[49m\u001b[43mschedule_task\u001b[49m\u001b[38;5;241;43m=\u001b[39;49m\u001b[38;5;28;43mself\u001b[39;49m\u001b[38;5;241;43m.\u001b[39;49m\u001b[43mschedule_task\u001b[49m\u001b[43m,\u001b[49m\n\u001b[1;32m    168\u001b[0m \u001b[43m                \u001b[49m\u001b[43msubmit\u001b[49m\u001b[38;5;241;43m=\u001b[39;49m\u001b[38;5;28;43mself\u001b[39;49m\u001b[38;5;241;43m.\u001b[39;49m\u001b[43msubmit\u001b[49m\u001b[43m,\u001b[49m\n\u001b[1;32m    169\u001b[0m \u001b[43m                \u001b[49m\u001b[43mreraise\u001b[49m\u001b[38;5;241;43m=\u001b[39;49m\u001b[43mreraise\u001b[49m\u001b[43m,\u001b[49m\n\u001b[1;32m    170\u001b[0m \u001b[43m            \u001b[49m\u001b[43m)\u001b[49m\u001b[43m,\u001b[49m\n\u001b[1;32m    171\u001b[0m \u001b[43m        \u001b[49m\u001b[43m}\u001b[49m\u001b[43m,\u001b[49m\n\u001b[1;32m    172\u001b[0m \u001b[43m    \u001b[49m\u001b[43m)\u001b[49m\n\u001b[1;32m    173\u001b[0m     \u001b[38;5;28mself\u001b[39m\u001b[38;5;241m.\u001b[39mcommit(t, \u001b[38;5;28;01mNone\u001b[39;00m)\n\u001b[1;32m    174\u001b[0m \u001b[38;5;28;01mexcept\u001b[39;00m \u001b[38;5;167;01mException\u001b[39;00m \u001b[38;5;28;01mas\u001b[39;00m exc:\n",
      "File \u001b[0;32m/mnt/d/Agentic Hackathon/agentic-app/env/lib/python3.10/site-packages/langgraph/pregel/retry.py:39\u001b[0m, in \u001b[0;36mrun_with_retry\u001b[0;34m(task, retry_policy, configurable)\u001b[0m\n\u001b[1;32m     37\u001b[0m     task\u001b[38;5;241m.\u001b[39mwrites\u001b[38;5;241m.\u001b[39mclear()\n\u001b[1;32m     38\u001b[0m     \u001b[38;5;66;03m# run the task\u001b[39;00m\n\u001b[0;32m---> 39\u001b[0m     \u001b[38;5;28;01mreturn\u001b[39;00m \u001b[43mtask\u001b[49m\u001b[38;5;241;43m.\u001b[39;49m\u001b[43mproc\u001b[49m\u001b[38;5;241;43m.\u001b[39;49m\u001b[43minvoke\u001b[49m\u001b[43m(\u001b[49m\u001b[43mtask\u001b[49m\u001b[38;5;241;43m.\u001b[39;49m\u001b[43minput\u001b[49m\u001b[43m,\u001b[49m\u001b[43m \u001b[49m\u001b[43mconfig\u001b[49m\u001b[43m)\u001b[49m\n\u001b[1;32m     40\u001b[0m \u001b[38;5;28;01mexcept\u001b[39;00m ParentCommand \u001b[38;5;28;01mas\u001b[39;00m exc:\n\u001b[1;32m     41\u001b[0m     ns: \u001b[38;5;28mstr\u001b[39m \u001b[38;5;241m=\u001b[39m config[CONF][CONFIG_KEY_CHECKPOINT_NS]\n",
      "File \u001b[0;32m/mnt/d/Agentic Hackathon/agentic-app/env/lib/python3.10/site-packages/langgraph/utils/runnable.py:622\u001b[0m, in \u001b[0;36mRunnableSeq.invoke\u001b[0;34m(self, input, config, **kwargs)\u001b[0m\n\u001b[1;32m    620\u001b[0m     \u001b[38;5;66;03m# run in context\u001b[39;00m\n\u001b[1;32m    621\u001b[0m     \u001b[38;5;28;01mwith\u001b[39;00m set_config_context(config, run) \u001b[38;5;28;01mas\u001b[39;00m context:\n\u001b[0;32m--> 622\u001b[0m         \u001b[38;5;28minput\u001b[39m \u001b[38;5;241m=\u001b[39m \u001b[43mcontext\u001b[49m\u001b[38;5;241;43m.\u001b[39;49m\u001b[43mrun\u001b[49m\u001b[43m(\u001b[49m\u001b[43mstep\u001b[49m\u001b[38;5;241;43m.\u001b[39;49m\u001b[43minvoke\u001b[49m\u001b[43m,\u001b[49m\u001b[43m \u001b[49m\u001b[38;5;28;43minput\u001b[39;49m\u001b[43m,\u001b[49m\u001b[43m \u001b[49m\u001b[43mconfig\u001b[49m\u001b[43m,\u001b[49m\u001b[43m \u001b[49m\u001b[38;5;241;43m*\u001b[39;49m\u001b[38;5;241;43m*\u001b[39;49m\u001b[43mkwargs\u001b[49m\u001b[43m)\u001b[49m\n\u001b[1;32m    623\u001b[0m \u001b[38;5;28;01melse\u001b[39;00m:\n\u001b[1;32m    624\u001b[0m     \u001b[38;5;28minput\u001b[39m \u001b[38;5;241m=\u001b[39m step\u001b[38;5;241m.\u001b[39minvoke(\u001b[38;5;28minput\u001b[39m, config)\n",
      "File \u001b[0;32m/mnt/d/Agentic Hackathon/agentic-app/env/lib/python3.10/site-packages/langgraph/utils/runnable.py:376\u001b[0m, in \u001b[0;36mRunnableCallable.invoke\u001b[0;34m(self, input, config, **kwargs)\u001b[0m\n\u001b[1;32m    374\u001b[0m         run_manager\u001b[38;5;241m.\u001b[39mon_chain_end(ret)\n\u001b[1;32m    375\u001b[0m \u001b[38;5;28;01melse\u001b[39;00m:\n\u001b[0;32m--> 376\u001b[0m     ret \u001b[38;5;241m=\u001b[39m \u001b[38;5;28;43mself\u001b[39;49m\u001b[38;5;241;43m.\u001b[39;49m\u001b[43mfunc\u001b[49m\u001b[43m(\u001b[49m\u001b[38;5;241;43m*\u001b[39;49m\u001b[43margs\u001b[49m\u001b[43m,\u001b[49m\u001b[43m \u001b[49m\u001b[38;5;241;43m*\u001b[39;49m\u001b[38;5;241;43m*\u001b[39;49m\u001b[43mkwargs\u001b[49m\u001b[43m)\u001b[49m\n\u001b[1;32m    377\u001b[0m \u001b[38;5;28;01mif\u001b[39;00m \u001b[38;5;28mself\u001b[39m\u001b[38;5;241m.\u001b[39mrecurse \u001b[38;5;129;01mand\u001b[39;00m \u001b[38;5;28misinstance\u001b[39m(ret, Runnable):\n\u001b[1;32m    378\u001b[0m     \u001b[38;5;28;01mreturn\u001b[39;00m ret\u001b[38;5;241m.\u001b[39minvoke(\u001b[38;5;28minput\u001b[39m, config)\n",
      "File \u001b[0;32m/mnt/d/Agentic Hackathon/agentic-app/agents/bd_agent/graph/nodes.py:35\u001b[0m, in \u001b[0;36mcall_model\u001b[0;34m(state)\u001b[0m\n\u001b[1;32m     33\u001b[0m \u001b[38;5;28;01mdef\u001b[39;00m\u001b[38;5;250m \u001b[39m\u001b[38;5;21mcall_model\u001b[39m(state: BDState):\n\u001b[1;32m     34\u001b[0m     logger\u001b[38;5;241m.\u001b[39minfo(\u001b[38;5;124mf\u001b[39m\u001b[38;5;124m\"\u001b[39m\u001b[38;5;124m[Current State] \u001b[39m\u001b[38;5;132;01m{\u001b[39;00mstate[\u001b[38;5;124m'\u001b[39m\u001b[38;5;124mmessages\u001b[39m\u001b[38;5;124m'\u001b[39m]\u001b[38;5;132;01m}\u001b[39;00m\u001b[38;5;124m\"\u001b[39m)\n\u001b[0;32m---> 35\u001b[0m     runnable \u001b[38;5;241m=\u001b[39m get_bd_prompt(schema_context \u001b[38;5;241m=\u001b[39m \u001b[43mstate\u001b[49m\u001b[43m[\u001b[49m\u001b[38;5;124;43m\"\u001b[39;49m\u001b[38;5;124;43mschema_context\u001b[39;49m\u001b[38;5;124;43m\"\u001b[39;49m\u001b[43m]\u001b[49m, business_profile \u001b[38;5;241m=\u001b[39m state[\u001b[38;5;124m\"\u001b[39m\u001b[38;5;124mbusiness_profile\u001b[39m\u001b[38;5;124m\"\u001b[39m]) \u001b[38;5;241m|\u001b[39m bd_llm\u001b[38;5;241m.\u001b[39mbind_tools(tools, tool_choice\u001b[38;5;241m=\u001b[39m\u001b[38;5;124m\"\u001b[39m\u001b[38;5;124many\u001b[39m\u001b[38;5;124m\"\u001b[39m)\n\u001b[1;32m     37\u001b[0m     \u001b[38;5;66;03m#Invoke with messages\u001b[39;00m\n\u001b[1;32m     38\u001b[0m     msg \u001b[38;5;241m=\u001b[39m runnable\u001b[38;5;241m.\u001b[39minvoke({\u001b[38;5;124m\"\u001b[39m\u001b[38;5;124mmessages\u001b[39m\u001b[38;5;124m\"\u001b[39m: state[\u001b[38;5;124m\"\u001b[39m\u001b[38;5;124mmessages\u001b[39m\u001b[38;5;124m\"\u001b[39m]})\n",
      "\u001b[0;31mKeyError\u001b[0m: 'schema_context'"
     ]
    }
   ],
   "source": [
    "bd_agent.graph.invoke({\"state\":bd_state})"
   ]
  }
 ],
 "metadata": {
  "kernelspec": {
   "display_name": "env",
   "language": "python",
   "name": "python3"
  },
  "language_info": {
   "codemirror_mode": {
    "name": "ipython",
    "version": 3
   },
   "file_extension": ".py",
   "mimetype": "text/x-python",
   "name": "python",
   "nbconvert_exporter": "python",
   "pygments_lexer": "ipython3",
   "version": "3.10.12"
  }
 },
 "nbformat": 4,
 "nbformat_minor": 5
}
