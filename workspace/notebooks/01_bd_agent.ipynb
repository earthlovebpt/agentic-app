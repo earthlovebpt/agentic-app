{
 "cells": [
  {
   "cell_type": "markdown",
   "id": "ea69ebad",
   "metadata": {},
   "source": [
    "# BD Agent Notebook\n",
    "\n",
    "Notebook for BD Agent. Let's do this starting from search & summary node as tool to call, BD agent to decide what tools to use and advisor chain"
   ]
  },
  {
   "cell_type": "markdown",
   "id": "cf2cf816",
   "metadata": {},
   "source": [
    "## Prepare data for BD Agents (Schema Context, Business Profile)"
   ]
  },
  {
   "cell_type": "code",
   "execution_count": 5,
   "id": "23aeccd0",
   "metadata": {},
   "outputs": [
    {
     "name": "stderr",
     "output_type": "stream",
     "text": [
      "2025-04-25 00:40:53,283 - stratpilot - INFO - StratPilot started.\n"
     ]
    },
    {
     "name": "stdout",
     "output_type": "stream",
     "text": [
      "The autoreload extension is already loaded. To reload it, use:\n",
      "  %reload_ext autoreload\n"
     ]
    }
   ],
   "source": [
    "%load_ext autoreload\n",
    "%autoreload 2\n",
    "\n",
    "import pandas as pd\n",
    "import os\n",
    "import glob\n",
    "\n",
    "import sys\n",
    "\n",
    "from dotenv import load_dotenv\n",
    "load_dotenv()\n",
    "\n",
    "_path = os.getcwd()\n",
    "while \"graphs\" not in os.listdir(_path):\n",
    "\n",
    "\t_path = os.path.dirname(_path)\n",
    "\n",
    "\tif _path.replace(\"/\", \"\").strip() == \"\":\n",
    "\n",
    "\t\traise FileNotFoundError()\n",
    " \n",
    "\tif _path not in sys.path:\n",
    "\n",
    "\t\tsys.path.append(_path)\n",
    "\n",
    "\t\tprint(f\"Appending {_path} to path\")\n",
    "\n",
    "from graphs.answer_graph import build_answer_graph\n",
    "from graphs.understand_graph import build_understand_graph  # if needed in later phases\n",
    "from graphs.state import AgentState\n",
    "\n",
    "import nest_asyncio\n",
    "nest_asyncio.apply()\n",
    "\n",
    "from utils.scraper import scrape_urls\n",
    "from utils.sanitize import sanitize\n",
    "\n",
    "from logger_config import setup_logger\n",
    "logger = setup_logger()\n",
    "logger.info(\"StratPilot started.\")"
   ]
  },
  {
   "cell_type": "code",
   "execution_count": 6,
   "id": "a6dd2881",
   "metadata": {},
   "outputs": [],
   "source": [
    "#Prepare data (Read)\n",
    "\n",
    "uploaded_files = glob.glob(\"/mnt/d/Agentic Hackathon/agentic-app/data/coffee-shop-sample-data/*\")\n",
    "datasets = {}\n",
    "care = [\"customer\", \"201904 sales reciepts\", \"product\"]\n",
    "\n",
    "for file in uploaded_files:\n",
    "    if not any(c in file for c in care):\n",
    "        continue\n",
    "\n",
    "    df = pd.read_csv(file)\n",
    "    dataset_label = os.path.basename(file).split(\".\")[0]\n",
    "\n",
    "    inferred = {col: col for col in df.columns}\n",
    "    column_descriptions = {}\n",
    "    for col, guess in inferred.items():\n",
    "        column_descriptions[col] = f\"This column likely represents {guess}.\"\n",
    "\n",
    "    datasets[sanitize(dataset_label)] = {\n",
    "        \"data\": df,\n",
    "        \"description\": dataset_label,\n",
    "        \"column_descriptions\": column_descriptions\n",
    "    }\n",
    "\n",
    "all_dataframes = {}\n",
    "all_column_schemas = {}\n",
    "\n",
    "for dataset_name, bundle in datasets.items():\n",
    "    description = bundle.get(\"description\", \"\").strip()\n",
    "    df = bundle[\"data\"]\n",
    "    column_descriptions = bundle.get(\"column_descriptions\", {})\n",
    "\n",
    "    all_dataframes[dataset_name] = df\n",
    "    all_column_schemas[dataset_name] = column_descriptions\n",
    "\n",
    "business_profile = {\n",
    "  'type': 'Cafe',\n",
    "  'details': 'Independent neighborhood cafe located in a busy urban area, serving specialty coffee and light meals. Targets young professionals and students. Medium foot traffic, strong competition from chain coffee shops. Focused on in-store experience and Instagram-friendly ambiance. Operates 7 days a week with peak hours in the morning and late afternoon. Interested in increasing repeat customers and promoting seasonal items.'\n",
    "}"
   ]
  },
  {
   "cell_type": "code",
   "execution_count": 7,
   "id": "a8272222",
   "metadata": {},
   "outputs": [],
   "source": [
    "#Run business understanding graph\n",
    "#Explore dataset agentically\n",
    "state = AgentState(\n",
    "    business_profile=business_profile,\n",
    "    datasets={},\n",
    "    new_datasets=datasets,\n",
    "    schema_context=\"\",\n",
    "    explored_datasets=[],\n",
    "    memory_log=[]\n",
    ")\n",
    "\n",
    "understand_graph = build_understand_graph()\n",
    "result = understand_graph.invoke(state)\n",
    "\n",
    "state = AgentState(**result)"
   ]
  },
  {
   "cell_type": "markdown",
   "id": "1753ef63",
   "metadata": {},
   "source": [
    "## Try with search tools"
   ]
  },
  {
   "cell_type": "code",
   "execution_count": 19,
   "id": "0b7e8ec0",
   "metadata": {},
   "outputs": [],
   "source": [
    "from langchain_tavily import TavilySearch\n",
    "from utils.scraper import postprocess_tavily\n",
    "\n",
    "from agents.llm_config import bd_llm\n",
    "from typing import List, Dict, Any\n",
    "from agents.bd_agent.prompt.web_summary_prompt import web_summary_prompt, WebSummaryOutput\n",
    "from langchain_core.tools import tool\n",
    "\n",
    "# Initialize Tavily Search Tool\n",
    "tavily_search_tool = TavilySearch(\n",
    "    max_results=5,\n",
    "    topic=\"general\",\n",
    ")\n",
    "\n",
    "args = {\"query\": \"What's a trendy menu now in coffee shop?\"}\n",
    "\n",
    "web_summary_chain = web_summary_prompt | bd_llm.with_structured_output(WebSummaryOutput)"
   ]
  },
  {
   "cell_type": "code",
   "execution_count": 23,
   "id": "00bb6126",
   "metadata": {},
   "outputs": [],
   "source": [
    "from tqdm import tqdm\n",
    "\n",
    "def search_summary_single(query: str) -> List[str]:\n",
    "    result = tavily_search_tool.invoke({\"query\": query})\n",
    "    scraped = postprocess_tavily(result)\n",
    "\n",
    "    summaries = []\n",
    "    for s in scraped:\n",
    "        tmp = web_summary_chain.invoke({\n",
    "            \"question\": args[\"query\"],\n",
    "            \"web_title\": s[\"title\"],\n",
    "            \"web_content\": s[\"page_content\"]\n",
    "        })\n",
    "\n",
    "        summaries.append(tmp.summary)\n",
    "\n",
    "    return summaries\n",
    "\n",
    "@tool(parse_docstring=True)\n",
    "def search_summary(queries: List[str], show_progress: bool = False) -> List[Dict[str, Any]]:\n",
    "    \"\"\"\n",
    "    Search and summarize web content for a list of queries.\n",
    "\n",
    "    Args:\n",
    "        queries (List[str]): A list of search queries.\n",
    "        show_progress (bool, optional): Whether to show progress bar. Defaults to False.\n",
    "\n",
    "    Returns:\n",
    "        List[Dict[str, Any]]: A list of dictionaries containing web content summaries for each query. The keys include 'question' (The search query), 'summaries' (List of summaries)\n",
    "    \"\"\"\n",
    "\n",
    "    if show_progress:\n",
    "        queries = tqdm(queries)\n",
    "        \n",
    "    summaries = []\n",
    "    for query in queries:\n",
    "        summaries.append({\n",
    "            \"question\": query,\n",
    "            \"summaries\": search_summary_single(query)\n",
    "        })\n",
    "\n",
    "    return summaries"
   ]
  },
  {
   "cell_type": "code",
   "execution_count": 24,
   "id": "6ca50bd9",
   "metadata": {},
   "outputs": [
    {
     "name": "stderr",
     "output_type": "stream",
     "text": [
      "100%|██████████| 2/2 [03:40<00:00, 110.32s/it]\n"
     ]
    }
   ],
   "source": [
    "queries = [\n",
    "    \"What's a trendy drink now in coffee shop?\",\n",
    "    \"What bakery is popular now in a cafe?\",]\n",
    "\n",
    "result = search_summary({\"queries\": queries, \"show_progress\": True})"
   ]
  },
  {
   "cell_type": "code",
   "execution_count": 25,
   "id": "eee62243",
   "metadata": {},
   "outputs": [
    {
     "data": {
      "text/plain": [
       "[{'question': \"What's a trendy drink now in coffee shop?\",\n",
       "  'summaries': ['Trendy menu items in coffee shops for 2024 include hot drinks like Sea Salt Latte, Dalgona Coffee (whipped coffee), and Blue Butterfly Pea Tea. Popular cold or alcoholic trendy drinks include various Cold Brew styles, Iced Matcha Cortado, Nitro Cold Brews, Snapp-chilled™ Coffee, and Mushroom Coffee. These drinks reflect current consumer interests in unique flavors, textures, and health-conscious options.',\n",
       "   'Trendy coffee shop menus in 2025 feature smart espresso machines and tech-driven brewing methods, a surge in ready-to-drink cold coffee and non-alcoholic coffee cocktails, and a strong focus on cold coffee options favored by younger consumers. Superfood-infused coffees with ingredients like turmeric and mushrooms are gaining popularity, alongside creative and customizable DIY-style coffee drinks. Sustainability and ethically sourced coffee are increasingly important, and cafes are offering more innovative specialty drinks such as single-origin pour-overs and unique cold brew blends like draft cold brew mixed with draft latte.',\n",
       "   'Currently trendy menu items in coffee shops include cold brew and nitro coffee, which offer smooth, low-acid, and creamy coffee experiences. Plant-based milk alternatives such as oat, almond, coconut, and soy milk are popular for catering to dietary preferences. Coffee cocktails, combining coffee with alcoholic spirits, are also becoming a fashionable choice, adding variety and appeal to coffee menus.']},\n",
       " {'question': 'What bakery is popular now in a cafe?',\n",
       "  'summaries': ['A trendy menu in coffee shops currently includes innovative sweet bakery items such as stuffed treats with molten centers, topped treats with indulgent toppings, dessert-flavored baked goods (like black forest or cheesecake-inspired pastries), salted caramel flavored items, nostalgic childhood-themed sweets, sweet and savory combinations, new wave croissants with unique fillings and shapes, Asian-influenced flavors like matcha and yuzu, elevated cinnamon scrolls, and globally inspired sophisticated doughnuts with refined flavors.',\n",
       "   'A trendy menu in coffee shops now includes pastries like coffee cake (ranked #1), pumpkin muffins (especially with cream cheese filling), and chocolate croissants. These pastries are popular choices that pair well with coffee and are favored by customers, making them top picks on coffee shop menus.',\n",
       "   'Trendy menus in coffee shops now often include a variety of pastries such as croissants, muffins, scones, Danish pastries, macarons, cakes, eclairs, and quiches. Current trends emphasize healthier options like gluten-free, vegan, and low-sugar pastries, as well as seasonal or themed baked goods and pastries featuring exotic or ethnic ingredients like matcha, tahini, or yuzu.',\n",
       "   'A trendy menu in coffee shops now often includes creative and innovative pastries that combine unexpected flavors and forms, such as unique croissants, doughnuts, and hybrid pastries. These items reflect a broader trend in American baking toward genre-bending techniques and inspired flavor combinations, making pastries the highlight of many coffee shop menus.']}]"
      ]
     },
     "execution_count": 25,
     "metadata": {},
     "output_type": "execute_result"
    }
   ],
   "source": [
    "result"
   ]
  },
  {
   "cell_type": "markdown",
   "id": "1cc4c0a6",
   "metadata": {},
   "source": [
    "## Try with actual BD Agents\n",
    "\n",
    "What it needs to do is -> Select tool calls. The agent can either call ask_da, do search_and_summarise, advice or answer.\n",
    "\n"
   ]
  },
  {
   "cell_type": "code",
   "execution_count": null,
   "id": "f8e5b6e7",
   "metadata": {},
   "outputs": [],
   "source": [
    "BD_SYSTEM_PROMPT = \"\"\"You are a helpful business development. You are very good at deciding what to do to improve the business based on user's queries or answer the user's questions.\n",
    "Your choice of actions always involve 4 things: \n",
    "1. Search and summarize web content to gather information\n",
    "2. Gather information from business internal data\n",
    "3. If the information is enough and the user asks for recommendation, give the recommendation based on the information\n",
    "4. If the information is enough and the user asks for direct answer, give the direct answer based on the information.\n",
    "\"\"\"\n",
    "\n",
    "BD_INSTRUCTION_PROMPT = \"\"\"Take a deep breath and think step-by-step. Think in gradually increasing complexity.\n",
    "\n",
    "You are given a schema context, a business profile and a question or query posed by user under the tag <schema_context>, <business_profile> and <question>.\n",
    "Your task is to decide what to do with the current information and decide what to do next using the provided tools.\n",
    "First, you need to decide whether you should retrieve more information. If so, you need to decide whether you should search and summarize web content or gather information from business internal data.\n",
    "Otherwise, you need to decide whether you should give the recommendation based on the information or give the direct answer based on the information. If the user asks for question with direct answer such as 'How much sales were generated last year?', you need to give the direct answer based on the information.\n",
    "However, if the user asks for recommendation such as 'I want to add new menu to my cafe', you need to give the recommendation based on the information.\n",
    "\n",
    "If you do this task well, I will tip you 200 US Dollars\"\"\""
   ]
  },
  {
   "cell_type": "code",
   "execution_count": 27,
   "id": "5aba613c",
   "metadata": {},
   "outputs": [],
   "source": [
    "from langchain_core.prompts import ChatPromptTemplate\n",
    "from datetime import datetime\n",
    "\n",
    "primary_assistant_prompt = ChatPromptTemplate.from_messages(\n",
    "    [\n",
    "        (\n",
    "            \"system\",\n",
    "            \"You are a helpful customer support assistant for Swiss Airlines. \"\n",
    "            \" Use the provided tools to search for flights, company policies, and other information to assist the user's queries. \"\n",
    "            \" When searching, be persistent. Expand your query bounds if the first search returns no results. \"\n",
    "            \" If a search comes up empty, expand your search before giving up.\"\n",
    "            \"\\n\\nCurrent user:\\n<User>\\n{user_info}\\n</User>\"\n",
    "            \"\\nCurrent time: {time}.\",\n",
    "        ),\n",
    "        (\"placeholder\", \"{messages}\"),\n",
    "    ]\n",
    ").partial(time=datetime.now)"
   ]
  },
  {
   "cell_type": "code",
   "execution_count": 33,
   "id": "79124220",
   "metadata": {},
   "outputs": [
    {
     "data": {
      "text/plain": [
       "[SystemMessage(content=\"You are a helpful customer support assistant for Swiss Airlines.  Use the provided tools to search for flights, company policies, and other information to assist the user's queries.  When searching, be persistent. Expand your query bounds if the first search returns no results.  If a search comes up empty, expand your search before giving up.\\n\\nCurrent user:\\n<User>\\ndummy\\n</User>\\nCurrent time: 2025-04-25 03:09:15.602935.\", additional_kwargs={}, response_metadata={}),\n",
       " AIMessage(content='dummy', additional_kwargs={}, response_metadata={})]"
      ]
     },
     "execution_count": 33,
     "metadata": {},
     "output_type": "execute_result"
    }
   ],
   "source": [
    "messages = [(\"assistant\", \"dummy\")]\n",
    "\n",
    "primary_assistant_prompt.invoke({\"messages\": messages, \"user_info\": \"dummy\"}).messages"
   ]
  }
 ],
 "metadata": {
  "kernelspec": {
   "display_name": "env",
   "language": "python",
   "name": "python3"
  },
  "language_info": {
   "codemirror_mode": {
    "name": "ipython",
    "version": 3
   },
   "file_extension": ".py",
   "mimetype": "text/x-python",
   "name": "python",
   "nbconvert_exporter": "python",
   "pygments_lexer": "ipython3",
   "version": "3.10.12"
  }
 },
 "nbformat": 4,
 "nbformat_minor": 5
}
